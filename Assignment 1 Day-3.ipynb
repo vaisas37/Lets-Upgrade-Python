{
 "cells": [
  {
   "cell_type": "code",
   "execution_count": 2,
   "metadata": {},
   "outputs": [
    {
     "name": "stdout",
     "output_type": "stream",
     "text": [
      "Enter the current altitude: 1000\n",
      "Land the Plane Now\n"
     ]
    }
   ],
   "source": [
    "altitude = int(input(\"Enter the current altitude: \"))\n",
    "if(altitude <= 1000):\n",
    "    print(\"Land the Plane Now\")\n",
    "elif((altitude > 1000) and (altitude < 5000)):\n",
    "    print(\"Come down to 1000ft\")\n",
    "elif(altitude > 5000):\n",
    "    print(\"Go around and try later\")    "
   ]
  },
  {
   "cell_type": "code",
   "execution_count": null,
   "metadata": {},
   "outputs": [],
   "source": []
  },
  {
   "cell_type": "code",
   "execution_count": null,
   "metadata": {},
   "outputs": [],
   "source": []
  }
 ],
 "metadata": {
  "kernelspec": {
   "display_name": "Python 3",
   "language": "python",
   "name": "python3"
  },
  "language_info": {
   "codemirror_mode": {
    "name": "ipython",
    "version": 3
   },
   "file_extension": ".py",
   "mimetype": "text/x-python",
   "name": "python",
   "nbconvert_exporter": "python",
   "pygments_lexer": "ipython3",
   "version": "3.8.3"
  }
 },
 "nbformat": 4,
 "nbformat_minor": 4
}
